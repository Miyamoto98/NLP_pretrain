{
 "cells": [
  {
   "cell_type": "markdown",
   "metadata": {},
   "source": [
    "# 字词嵌入"
   ]
  },
  {
   "cell_type": "markdown",
   "metadata": {},
   "source": [
    "### 字节对编码"
   ]
  },
  {
   "cell_type": "markdown",
   "metadata": {},
   "source": [
    "FastText 模型中 提取的所有字词都必须是指定的长度 例如 3 or 6 因此词表大小不能预定义  \n",
    "为了在固大小的词表中 允许可变长度的字词 我们可以使用 **字节对编码 BPE** 压缩算法来提取字词"
   ]
  },
  {
   "cell_type": "code",
   "execution_count": 34,
   "metadata": {},
   "outputs": [],
   "source": [
    "import collections\n",
    "\n",
    "Symbols = ['a', 'b', 'c', 'd', 'e', 'f', 'g', 'h', 'i', 'j', 'k', 'l', 'm', 'n', 'o', 'p', 'q', 'r', 's', 't', 'u', 'v', 'w', 'x', 'y', 'z', '_', '[UNK]']"
   ]
  },
  {
   "cell_type": "markdown",
   "metadata": {},
   "source": [
    "因为我们不考虑跨越词边界的符号对 所以我们只需要一个词典 raw_token_freqs 讲词映射到数据集中的频率 出现次数  \n",
    "注意：特殊符号 '_' 被附加到每个词的尾部  \n",
    "由于 我们仅从单个字符和特殊符号的词开始合并处理\n",
    "因此每个词 ‘词典 token_freqs的键’ 内的每对连续字符之间插入空格  \n",
    "空格是词中符号之间的分隔符"
   ]
  },
  {
   "cell_type": "code",
   "execution_count": 35,
   "metadata": {},
   "outputs": [
    {
     "data": {
      "text/plain": [
       "{'f a s t _': 4, 'f a s t e r _': 3, 't a l l _': 5, 't a l l e r _': 4}"
      ]
     },
     "execution_count": 35,
     "metadata": {},
     "output_type": "execute_result"
    }
   ],
   "source": [
    "raw_tokens_freqs = {'fast_': 4, 'faster_': 3, 'tall_': 5, 'taller_': 4}\n",
    "token_freqs = {}\n",
    "for token, freq in raw_tokens_freqs.items():\n",
    "    token_freqs[' '.join(list(token))] = raw_tokens_freqs[token]\n",
    "token_freqs"
   ]
  },
  {
   "cell_type": "markdown",
   "metadata": {},
   "source": [
    "我们定义以下 get_max_freq_pair 函数，其返回词内出现最频繁的连续符号对，其中词来自输入词典 token_freqs 的健"
   ]
  },
  {
   "cell_type": "code",
   "execution_count": 36,
   "metadata": {},
   "outputs": [],
   "source": [
    "def get_max_freq_pair(token_freqs):\n",
    "    pairs = collections.defaultdict(int) # 当 pair 不存在时，返回 0\n",
    "    for token, freq in token_freqs.items():\n",
    "        symbols = token.split() # 将 token 拆分为单个字符\n",
    "        for i in range(len(symbols) - 1):\n",
    "            pairs[symbols[i], symbols[i + 1]] += freq # 统计 pair 出现的次数\n",
    "    return max(pairs, key=pairs.get) # 返回频率最大的 pair"
   ]
  },
  {
   "cell_type": "code",
   "execution_count": 37,
   "metadata": {},
   "outputs": [],
   "source": [
    "def merge_symbols(max_freq_pair, token_freqs, symbols):\n",
    "    symbols.append(''.join(max_freq_pair)) # 将 pair 合并为一个新的字符\n",
    "    new_token_freqs = {} # 存储新的 token 频率\n",
    "    for token, freq in token_freqs.items(): # 更新 token 频率\n",
    "        new_token = token.replace(' '.join(max_freq_pair), ''.join(max_freq_pair)) # 将 token 中的 pair 替换为新字符\n",
    "        new_token_freqs[new_token] = token_freqs[token] # 更新 token 频率\n",
    "    return new_token_freqs"
   ]
  },
  {
   "cell_type": "code",
   "execution_count": 38,
   "metadata": {},
   "outputs": [
    {
     "name": "stdout",
     "output_type": "stream",
     "text": [
      "合并#1: ('t', 'a')\n",
      "合并#2: ('ta', 'l')\n",
      "合并#3: ('tal', 'l')\n",
      "合并#4: ('f', 'a')\n",
      "合并#5: ('fa', 's')\n",
      "合并#6: ('fas', 't')\n",
      "合并#7: ('e', 'r')\n",
      "合并#8: ('er', '_')\n",
      "合并#9: ('tall', '_')\n",
      "合并#10: ('fast', '_')\n"
     ]
    }
   ],
   "source": [
    "num_epochs = 10\n",
    "for i in range(num_epochs):\n",
    "    max_freq_pair = get_max_freq_pair(token_freqs)\n",
    "    token_freqs = merge_symbols(max_freq_pair, token_freqs, Symbols)\n",
    "    print(f'合并#{i + 1}:', max_freq_pair)"
   ]
  },
  {
   "cell_type": "code",
   "execution_count": 39,
   "metadata": {},
   "outputs": [
    {
     "name": "stdout",
     "output_type": "stream",
     "text": [
      "['a', 'b', 'c', 'd', 'e', 'f', 'g', 'h', 'i', 'j', 'k', 'l', 'm', 'n', 'o', 'p', 'q', 'r', 's', 't', 'u', 'v', 'w', 'x', 'y', 'z', '_', '[UNK]', 'ta', 'tal', 'tall', 'fa', 'fas', 'fast', 'er', 'er_', 'tall_', 'fast_']\n"
     ]
    }
   ],
   "source": [
    "print(Symbols)"
   ]
  },
  {
   "cell_type": "code",
   "execution_count": 40,
   "metadata": {},
   "outputs": [
    {
     "name": "stdout",
     "output_type": "stream",
     "text": [
      "[4, 3, 5, 4]\n"
     ]
    }
   ],
   "source": [
    "print(list(token_freqs.values()))"
   ]
  },
  {
   "cell_type": "markdown",
   "metadata": {},
   "source": [
    "注意 字节对编码的结果取决于正在使用的数据集  \n",
    "我们还可以使用从一个数据集中学习到的子词来切分另一个数据集的词  "
   ]
  },
  {
   "cell_type": "code",
   "execution_count": 41,
   "metadata": {},
   "outputs": [],
   "source": [
    "def segment_BPE(tokens, symbols):\n",
    "    outputs = []\n",
    "    for token in tokens:\n",
    "        start, end = 0, len(token)\n",
    "        cur_output = [] # 存储分词结果\n",
    "        while start < len(token):\n",
    "            if token[start:end] in symbols:\n",
    "                cur_output.append(token[start:end])\n",
    "                start = end\n",
    "                end = len(token)\n",
    "            else:\n",
    "                end -= 1\n",
    "        if start < len(token):\n",
    "            cur_output.append('[UNK]')\n",
    "        outputs.append(' '.join(cur_output))\n",
    "    return outputs"
   ]
  },
  {
   "cell_type": "code",
   "execution_count": 42,
   "metadata": {},
   "outputs": [
    {
     "name": "stdout",
     "output_type": "stream",
     "text": [
      "['tall e s t _', 'fa t t er_']\n"
     ]
    }
   ],
   "source": [
    "tokens = ['tallest_', 'fatter_']\n",
    "print(segment_BPE(tokens, Symbols))"
   ]
  }
 ],
 "metadata": {
  "kernelspec": {
   "display_name": "Python 3",
   "language": "python",
   "name": "python3"
  },
  "language_info": {
   "codemirror_mode": {
    "name": "ipython",
    "version": 3
   },
   "file_extension": ".py",
   "mimetype": "text/x-python",
   "name": "python",
   "nbconvert_exporter": "python",
   "pygments_lexer": "ipython3",
   "version": "3.10.1"
  }
 },
 "nbformat": 4,
 "nbformat_minor": 2
}
